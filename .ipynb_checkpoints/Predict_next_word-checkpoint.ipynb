{
 "cells": [
  {
   "cell_type": "code",
   "execution_count": null,
   "metadata": {},
   "outputs": [],
   "source": [
    "!pip3 install tensorflow"
   ]
  },
  {
   "cell_type": "code",
   "execution_count": null,
   "metadata": {},
   "outputs": [],
   "source": [
    "!pip install upgrade pip"
   ]
  },
  {
   "cell_type": "code",
   "execution_count": 2,
   "metadata": {},
   "outputs": [
    {
     "name": "stdout",
     "output_type": "stream",
     "text": [
      "^C\n"
     ]
    }
   ],
   "source": [
    "!pip install tensorflow"
   ]
  },
  {
   "cell_type": "code",
   "execution_count": 1,
   "metadata": {
    "id": "6W_1Qe8_sxn5"
   },
   "outputs": [
    {
     "ename": "ModuleNotFoundError",
     "evalue": "No module named 'tensorflow'",
     "output_type": "error",
     "traceback": [
      "\u001b[1;31m---------------------------------------------------------------------------\u001b[0m",
      "\u001b[1;31mModuleNotFoundError\u001b[0m                       Traceback (most recent call last)",
      "Cell \u001b[1;32mIn[1], line 5\u001b[0m\n\u001b[0;32m      2\u001b[0m \u001b[38;5;28;01mimport\u001b[39;00m \u001b[38;5;21;01mpandas\u001b[39;00m \u001b[38;5;28;01mas\u001b[39;00m \u001b[38;5;21;01mpd\u001b[39;00m\n\u001b[0;32m      3\u001b[0m \u001b[38;5;28;01mimport\u001b[39;00m \u001b[38;5;21;01mmatplotlib\u001b[39;00m\u001b[38;5;21;01m.\u001b[39;00m\u001b[38;5;21;01mpyplot\u001b[39;00m \u001b[38;5;28;01mas\u001b[39;00m \u001b[38;5;21;01mplt\u001b[39;00m\n\u001b[1;32m----> 5\u001b[0m \u001b[38;5;28;01mimport\u001b[39;00m \u001b[38;5;21;01mtensorflow\u001b[39;00m \u001b[38;5;28;01mas\u001b[39;00m \u001b[38;5;21;01mtf\u001b[39;00m\n\u001b[0;32m      6\u001b[0m \u001b[38;5;28;01mfrom\u001b[39;00m \u001b[38;5;21;01mtensorflow\u001b[39;00m\u001b[38;5;21;01m.\u001b[39;00m\u001b[38;5;21;01mkeras\u001b[39;00m\u001b[38;5;21;01m.\u001b[39;00m\u001b[38;5;21;01mmodels\u001b[39;00m \u001b[38;5;28;01mimport\u001b[39;00m Sequential\n\u001b[0;32m      7\u001b[0m \u001b[38;5;28;01mfrom\u001b[39;00m \u001b[38;5;21;01mtensorflow\u001b[39;00m\u001b[38;5;21;01m.\u001b[39;00m\u001b[38;5;21;01mkeras\u001b[39;00m\u001b[38;5;21;01m.\u001b[39;00m\u001b[38;5;21;01mdatasets\u001b[39;00m \u001b[38;5;28;01mimport\u001b[39;00m reuters\n",
      "\u001b[1;31mModuleNotFoundError\u001b[0m: No module named 'tensorflow'"
     ]
    }
   ],
   "source": [
    "import numpy as np\n",
    "import pandas as pd\n",
    "import matplotlib.pyplot as plt\n",
    "\n",
    "import tensorflow as tf\n",
    "from tensorflow.keras.models import Sequential\n",
    "from tensorflow.keras.datasets import reuters\n",
    "from tensorflow.keras.layers import Embedding,LSTM,Bidirectional,Dense\n",
    "from tensorflow.keras.preprocessing.text import Tokenizer\n",
    "from tensorflow.keras.preprocessing.sequence import pad_sequences\n"
   ]
  },
  {
   "cell_type": "code",
   "execution_count": null,
   "metadata": {
    "colab": {
     "base_uri": "https://localhost:8080/"
    },
    "id": "Xd8lfuFrtUoo",
    "outputId": "c432e566-3be2-47f1-f51d-ad4a7995dd43"
   },
   "outputs": [
    {
     "name": "stdout",
     "output_type": "stream",
     "text": [
      "(6508, 10)\n"
     ]
    }
   ],
   "source": [
    "# data = reuters.load_data()\n",
    "# (X_train,y_train),(y_train,y_test) = data\n",
    "data = pd.read_csv('medium_data.csv')\n",
    "data['title']\n",
    "print(data.shape)"
   ]
  },
  {
   "cell_type": "code",
   "execution_count": null,
   "metadata": {
    "id": "TyRfOQRGzRXZ"
   },
   "outputs": [],
   "source": [
    "# corpus = [\n",
    "#     \"I love programming\",\n",
    "#     \"Programming languages are fascinating\",\n",
    "#     \"Machine learning is a powerful tool\",\n",
    "#     \"I enjoy solving coding problems\",\n",
    "#     \"Learning new things is always exciting\",\n",
    "#     \"Python is a versatile language\",\n",
    "#     \"Data analysis is an essential skill\",\n",
    "#     \"I like building applications\",\n",
    "#     \"Coding challenges improve problem-solving skills\",\n",
    "#     \"Artificial intelligence is shaping the future\",\n",
    "# ]"
   ]
  },
  {
   "cell_type": "code",
   "execution_count": null,
   "metadata": {
    "colab": {
     "base_uri": "https://localhost:8080/"
    },
    "id": "WwvxXJLAun61",
    "outputId": "f199b113-b82c-4600-f57a-d33509efe2f9"
   },
   "outputs": [
    {
     "name": "stdout",
     "output_type": "stream",
     "text": [
      "Total number of words:  8237\n"
     ]
    }
   ],
   "source": [
    "data ['title'] = data['title'].apply(lambda x: x.replace(u'\\xa0',u' ').replace('\\u200a',' '))\n",
    "\n",
    "# Tokenize the text\n",
    "tokenizer = Tokenizer()\n",
    "tokenizer.fit_on_texts(data['title'])\n",
    "total_words = len(tokenizer.word_index) + 1\n",
    "\n",
    "print(\"Total number of words: \", total_words)"
   ]
  },
  {
   "cell_type": "code",
   "execution_count": null,
   "metadata": {
    "colab": {
     "base_uri": "https://localhost:8080/"
    },
    "id": "et63tXriyZBB",
    "outputId": "eb00d981-9733-4425-f4e7-b8af07abf754"
   },
   "outputs": [
    {
     "name": "stdout",
     "output_type": "stream",
     "text": [
      "total input sequences: 48461\n"
     ]
    }
   ],
   "source": [
    "input_sequences = []\n",
    "\n",
    "for line in data['title']:\n",
    "  # print(line)\n",
    "  token_list = tokenizer.texts_to_sequences([line])[0]\n",
    "  # print(token_list)\n",
    "  for i in range(1,len(token_list)):\n",
    "    n_gram_sequence = token_list[:i+1]\n",
    "    input_sequences.append(n_gram_sequence)\n",
    "\n",
    "# input_sequences\n",
    "print(\"total input sequences:\",len(input_sequences))"
   ]
  },
  {
   "cell_type": "code",
   "execution_count": null,
   "metadata": {
    "colab": {
     "base_uri": "https://localhost:8080/"
    },
    "id": "JuoH1MHavRks",
    "outputId": "9f0e51d7-4573-48a6-d233-beee569938b8"
   },
   "outputs": [
    {
     "name": "stdout",
     "output_type": "stream",
     "text": [
      "Max Sequence Length: 40\n"
     ]
    }
   ],
   "source": [
    "# input_sequences = np.array(input_sequences)\n",
    "max_sequence_length = max(len(seq) for seq in input_sequences)\n",
    "print(\"Max Sequence Length:\", max_sequence_length)\n",
    "input_sequences = np.array(pad_sequences(input_sequences, maxlen=max_sequence_length, padding='pre'))\n",
    "X,y = input_sequences[:,:-1],input_sequences[:,-1]\n",
    "y = tf.keras.utils.to_categorical(y, num_classes = total_words)\n",
    "\n",
    "# X, y = input_sequences[:, :-1], input_sequences[:, -1]\n",
    "# X = [seq[:-1] for seq in input_sequences]\n",
    "# y = [seq[-1] for seq in input_sequences]\n",
    "\n"
   ]
  },
  {
   "cell_type": "code",
   "execution_count": null,
   "metadata": {
    "id": "GSma-wIX8XOr"
   },
   "outputs": [],
   "source": [
    "# import numpy as np\n",
    "# for i in range(len(X)):  # Print the first 5 samples or all if less than 5\n",
    "#     x_text = ' '.join(tokenizer.index_word[idx] for idx in X[i] if idx != 0)\n",
    "#     y_text = tokenizer.index_word[y[i]]\n",
    "#     print(f\"X: {x_text.ljust(30)} | y: {y_text}\")"
   ]
  },
  {
   "cell_type": "code",
   "execution_count": null,
   "metadata": {
    "id": "AhxJWGEW14p6"
   },
   "outputs": [],
   "source": []
  },
  {
   "cell_type": "code",
   "execution_count": null,
   "metadata": {
    "colab": {
     "base_uri": "https://localhost:8080/"
    },
    "id": "GNJTc6nd4DzE",
    "outputId": "9021e7f2-3b7e-45de-e4a1-b1290d4890de"
   },
   "outputs": [
    {
     "name": "stdout",
     "output_type": "stream",
     "text": [
      "Model: \"sequential_12\"\n",
      "_________________________________________________________________\n",
      " Layer (type)                Output Shape              Param #   \n",
      "=================================================================\n",
      " embedding_12 (Embedding)    (None, 39, 100)           823700    \n",
      "                                                                 \n",
      " bidirectional (Bidirection  (None, 300)               301200    \n",
      " al)                                                             \n",
      "                                                                 \n",
      " dense_10 (Dense)            (None, 8237)              2479337   \n",
      "                                                                 \n",
      "=================================================================\n",
      "Total params: 3604237 (13.75 MB)\n",
      "Trainable params: 3604237 (13.75 MB)\n",
      "Non-trainable params: 0 (0.00 Byte)\n",
      "_________________________________________________________________\n"
     ]
    }
   ],
   "source": [
    "model = Sequential()\n",
    "model.add(Embedding(total_words,100,input_length= max_sequence_length-1 ))\n",
    "model.add(Bidirectional(LSTM(150)))\n",
    "model.add(Dense(total_words,activation = 'softmax'))\n",
    "\n",
    "model.compile(optimizer ='adam', loss ='categorical_crossentropy',metrics= ['accuracy'])\n",
    "model.summary()"
   ]
  },
  {
   "cell_type": "code",
   "execution_count": null,
   "metadata": {
    "colab": {
     "background_save": true,
     "base_uri": "https://localhost:8080/"
    },
    "id": "weXIfjBA40gE",
    "outputId": "b7a7ee4d-d422-44bd-eb48-76095ecf1009"
   },
   "outputs": [
    {
     "name": "stdout",
     "output_type": "stream",
     "text": [
      "Epoch 1/50\n",
      "1515/1515 [==============================] - 285s 184ms/step - loss: 6.9788 - accuracy: 0.0858\n",
      "Epoch 2/50\n",
      "1515/1515 [==============================] - 266s 176ms/step - loss: 6.1344 - accuracy: 0.1419\n",
      "Epoch 3/50\n",
      "1515/1515 [==============================] - 269s 177ms/step - loss: 5.6038 - accuracy: 0.1698\n",
      "Epoch 4/50\n",
      "1515/1515 [==============================] - 271s 179ms/step - loss: 5.1262 - accuracy: 0.1937\n",
      "Epoch 5/50\n",
      "1515/1515 [==============================] - 270s 178ms/step - loss: 4.6771 - accuracy: 0.2182\n",
      "Epoch 6/50\n",
      "1515/1515 [==============================] - 270s 178ms/step - loss: 4.2558 - accuracy: 0.2489\n",
      "Epoch 7/50\n",
      "1515/1515 [==============================] - 266s 176ms/step - loss: 3.8557 - accuracy: 0.2880\n",
      "Epoch 8/50\n",
      "1515/1515 [==============================] - 267s 176ms/step - loss: 3.4833 - accuracy: 0.3406\n",
      "Epoch 9/50\n",
      "1515/1515 [==============================] - 271s 179ms/step - loss: 3.1372 - accuracy: 0.3957\n",
      "Epoch 10/50\n",
      "1515/1515 [==============================] - 270s 178ms/step - loss: 2.8205 - accuracy: 0.4494\n",
      "Epoch 11/50\n",
      "1515/1515 [==============================] - 263s 173ms/step - loss: 2.5412 - accuracy: 0.4995\n",
      "Epoch 12/50\n",
      "1515/1515 [==============================] - 266s 176ms/step - loss: 2.2914 - accuracy: 0.5461\n",
      "Epoch 13/50\n",
      "1515/1515 [==============================] - 269s 177ms/step - loss: 2.0701 - accuracy: 0.5874\n",
      "Epoch 14/50\n",
      "1515/1515 [==============================] - 274s 181ms/step - loss: 1.8725 - accuracy: 0.6254\n",
      "Epoch 15/50\n",
      "1515/1515 [==============================] - 268s 177ms/step - loss: 1.7001 - accuracy: 0.6607\n",
      "Epoch 16/50\n",
      "1515/1515 [==============================] - 273s 180ms/step - loss: 1.5463 - accuracy: 0.6902\n",
      "Epoch 17/50\n",
      "1515/1515 [==============================] - 268s 177ms/step - loss: 1.4112 - accuracy: 0.7193\n",
      "Epoch 18/50\n",
      "1515/1515 [==============================] - 270s 178ms/step - loss: 1.2934 - accuracy: 0.7421\n",
      "Epoch 19/50\n",
      "1515/1515 [==============================] - 297s 196ms/step - loss: 1.1904 - accuracy: 0.7616\n",
      "Epoch 20/50\n",
      "1515/1515 [==============================] - 289s 191ms/step - loss: 1.1020 - accuracy: 0.7784\n",
      "Epoch 21/50\n",
      "1515/1515 [==============================] - 258s 171ms/step - loss: 1.0266 - accuracy: 0.7935\n",
      "Epoch 22/50\n",
      "1515/1515 [==============================] - 258s 171ms/step - loss: 0.9581 - accuracy: 0.8066\n",
      "Epoch 23/50\n",
      "1515/1515 [==============================] - 266s 175ms/step - loss: 0.9018 - accuracy: 0.8160\n",
      "Epoch 24/50\n",
      "1515/1515 [==============================] - 266s 175ms/step - loss: 0.8533 - accuracy: 0.8233\n",
      "Epoch 25/50\n",
      "1515/1515 [==============================] - 266s 176ms/step - loss: 0.8126 - accuracy: 0.8310\n",
      "Epoch 26/50\n",
      "1515/1515 [==============================] - 274s 181ms/step - loss: 0.7786 - accuracy: 0.8352\n",
      "Epoch 27/50\n",
      "1515/1515 [==============================] - 272s 179ms/step - loss: 0.7473 - accuracy: 0.8407\n",
      "Epoch 28/50\n",
      "1515/1515 [==============================] - 271s 179ms/step - loss: 0.7233 - accuracy: 0.8420\n",
      "Epoch 29/50\n",
      "1515/1515 [==============================] - 269s 177ms/step - loss: 0.7023 - accuracy: 0.8467\n",
      "Epoch 30/50\n",
      "1515/1515 [==============================] - 269s 178ms/step - loss: 0.6836 - accuracy: 0.8482\n",
      "Epoch 31/50\n",
      "1515/1515 [==============================] - 267s 176ms/step - loss: 0.6683 - accuracy: 0.8500\n",
      "Epoch 32/50\n",
      "1515/1515 [==============================] - 271s 179ms/step - loss: 0.6557 - accuracy: 0.8512\n",
      "Epoch 33/50\n",
      "1515/1515 [==============================] - 270s 178ms/step - loss: 0.6446 - accuracy: 0.8514\n",
      "Epoch 34/50\n",
      "1515/1515 [==============================] - 273s 180ms/step - loss: 0.6342 - accuracy: 0.8523\n",
      "Epoch 35/50\n",
      "1515/1515 [==============================] - 266s 176ms/step - loss: 0.6271 - accuracy: 0.8532\n",
      "Epoch 36/50\n",
      "1515/1515 [==============================] - 266s 175ms/step - loss: 0.6201 - accuracy: 0.8531\n",
      "Epoch 37/50\n",
      "1515/1515 [==============================] - 269s 177ms/step - loss: 0.6126 - accuracy: 0.8545\n",
      "Epoch 38/50\n",
      "1515/1515 [==============================] - 277s 182ms/step - loss: 0.6087 - accuracy: 0.8536\n",
      "Epoch 39/50\n",
      "1515/1515 [==============================] - 267s 176ms/step - loss: 0.6026 - accuracy: 0.8544\n",
      "Epoch 40/50\n",
      "1515/1515 [==============================] - 274s 181ms/step - loss: 0.5966 - accuracy: 0.8556\n",
      "Epoch 41/50\n",
      "1515/1515 [==============================] - 273s 180ms/step - loss: 0.5961 - accuracy: 0.8545\n",
      "Epoch 42/50\n",
      "1515/1515 [==============================] - 269s 178ms/step - loss: 0.5904 - accuracy: 0.8547\n",
      "Epoch 43/50\n",
      "1515/1515 [==============================] - 267s 176ms/step - loss: 0.5873 - accuracy: 0.8555\n",
      "Epoch 44/50\n",
      "1515/1515 [==============================] - 266s 175ms/step - loss: 0.5846 - accuracy: 0.8551\n",
      "Epoch 45/50\n",
      "1515/1515 [==============================] - 272s 180ms/step - loss: 0.5844 - accuracy: 0.8548\n",
      "Epoch 46/50\n",
      "1515/1515 [==============================] - 267s 177ms/step - loss: 0.5809 - accuracy: 0.8547\n",
      "Epoch 47/50\n",
      "1515/1515 [==============================] - 268s 177ms/step - loss: 0.5785 - accuracy: 0.8547\n",
      "Epoch 48/50\n",
      "1515/1515 [==============================] - 263s 173ms/step - loss: 0.5740 - accuracy: 0.8555\n",
      "Epoch 49/50\n",
      "1515/1515 [==============================] - 270s 178ms/step - loss: 0.5739 - accuracy: 0.8548\n",
      "Epoch 50/50\n",
      "1515/1515 [==============================] - 265s 175ms/step - loss: 0.5728 - accuracy: 0.8554\n",
      "<keras.src.engine.sequential.Sequential object at 0x7cdbc57c58d0>\n"
     ]
    }
   ],
   "source": [
    "history = model.fit(X,y,epochs =50,verbose=1)\n",
    "print(model)"
   ]
  },
  {
   "cell_type": "code",
   "execution_count": null,
   "metadata": {
    "colab": {
     "base_uri": "https://localhost:8080/"
    },
    "id": "tKL-hQJmB3Ir",
    "outputId": "fbfd3629-f3f7-4efa-84c1-480b5de473e4"
   },
   "outputs": [
    {
     "data": {
      "text/plain": [
       "<keras.src.callbacks.History at 0x7cdbc5613970>"
      ]
     },
     "execution_count": 154,
     "metadata": {},
     "output_type": "execute_result"
    }
   ],
   "source": [
    "history"
   ]
  },
  {
   "cell_type": "code",
   "execution_count": null,
   "metadata": {
    "colab": {
     "base_uri": "https://localhost:8080/"
    },
    "id": "PyCE-Cm_CcgK",
    "outputId": "dfc7aa60-9ce9-4cca-c7e3-f8ac69fb6ba2"
   },
   "outputs": [
    {
     "name": "stderr",
     "output_type": "stream",
     "text": [
      "/usr/local/lib/python3.10/dist-packages/keras/src/engine/training.py:3103: UserWarning: You are saving your model as an HDF5 file via `model.save()`. This file format is considered legacy. We recommend using instead the native Keras format, e.g. `model.save('my_model.keras')`.\n",
      "  saving_api.save_model(\n"
     ]
    }
   ],
   "source": [
    "import h5py\n",
    "model_filename = 'model.h5'\n",
    "model.save(model_filename)"
   ]
  },
  {
   "cell_type": "code",
   "execution_count": null,
   "metadata": {
    "colab": {
     "base_uri": "https://localhost:8080/",
     "height": 449
    },
    "id": "0_t5tyyXBuy2",
    "outputId": "00e63e2e-69c6-40ba-b976-eaaa9bfa0f87"
   },
   "outputs": [
    {
     "data": {
      "image/png": "[encoded data removed]",
      "text/plain": [
       "<Figure size 640x480 with 1 Axes>"
      ]
     },
     "metadata": {},
     "output_type": "display_data"
    }
   ],
   "source": [
    "def plot_graphs(history,metric):\n",
    "  plt.plot(history.history[metric])\n",
    "  plt.xlabel('Epochs')\n",
    "  plt.ylabel(metric)\n",
    "  plt.show()\n",
    "\n",
    "plot_graphs(history,'accuracy')"
   ]
  },
  {
   "cell_type": "code",
   "execution_count": null,
   "metadata": {
    "colab": {
     "base_uri": "https://localhost:8080/",
     "height": 449
    },
    "id": "vQj9h5G2BufQ",
    "outputId": "a6c0b5d1-9e80-4f12-db92-8a15cc8aadb4"
   },
   "outputs": [
    {
     "data": {
      "image/png": "[encoded data removed]",
      "text/plain": [
       "<Figure size 640x480 with 1 Axes>"
      ]
     },
     "metadata": {},
     "output_type": "display_data"
    }
   ],
   "source": [
    "plot_graphs(history,'loss')"
   ]
  },
  {
   "cell_type": "code",
   "execution_count": null,
   "metadata": {
    "colab": {
     "base_uri": "https://localhost:8080/"
    },
    "id": "rjP1DD6h5YW_",
    "outputId": "198a10bf-ecd6-476d-a279-266c9b550f70"
   },
   "outputs": [
    {
     "name": "stdout",
     "output_type": "stream",
     "text": [
      "Seed text: hypothesis\n",
      "Predicted next words: hypothesis testing glossary for\n"
     ]
    }
   ],
   "source": [
    "def predict_next_word(seed_text, model, tokenizer, max_sequence_length):\n",
    "    for _ in range(3):  # Predict the next 3 words\n",
    "        token_list = tokenizer.texts_to_sequences([seed_text])[0]\n",
    "        token_list = pad_sequences([token_list], maxlen=max_sequence_length-1, padding='pre')\n",
    "        predicted_probs = model.predict(token_list, verbose=0)[0]\n",
    "        predicted_id = np.argmax(predicted_probs)\n",
    "        predicted_word = tokenizer.index_word[predicted_id]\n",
    "        seed_text += \" \" + predicted_word\n",
    "    return seed_text\n",
    "\n",
    "seed_text = \"hypothesis\"\n",
    "predicted_text = predict_next_word(seed_text, model, tokenizer, max_sequence_length)\n",
    "print(\"Seed text:\", seed_text)\n",
    "print(\"Predicted next words:\", predicted_text)\n"
   ]
  },
  {
   "cell_type": "code",
   "execution_count": null,
   "metadata": {
    "colab": {
     "base_uri": "https://localhost:8080/"
    },
    "id": "2UsBCy1y_Se6",
    "outputId": "80b419e9-24c7-446f-c922-bb7332e2862b"
   },
   "outputs": [
    {
     "name": "stdout",
     "output_type": "stream",
     "text": [
      "CSV file saved at: generated_data.csv\n"
     ]
    }
   ],
   "source": [
    "# corpus = [\n",
    "#     \"I enjoy solving coding problems\",\n",
    "#     \"Machine learning opens new possibilities\",\n",
    "#     \"Programming languages shape our digital world\",\n",
    "#     \"Data analysis drives informed decisions\",\n",
    "#     \"I love exploring innovative solutions\",\n",
    "#     \"Artificial intelligence revolutionizes industries\",\n",
    "#     \"Python empowers developers with flexibility\",\n",
    "#     \"Learning new skills broadens horizons\",\n",
    "#     \"Coding challenges enhance problem-solving abilities\",\n",
    "#     \"Innovation in technology fuels progress\",\n",
    "#     \"I like building creative applications\",\n",
    "#     \"Programming is a journey of continuous learning\",\n",
    "#     \"Machine learning algorithms unlock insights\",\n",
    "#     \"Data analysis uncovers hidden patterns\",\n",
    "#     \"Artificial intelligence reshapes business landscapes\",\n",
    "#     \"I enjoy the art of coding\",\n",
    "#     \"Python simplifies complex tasks\",\n",
    "#     \"Learning and growing in the tech field\",\n",
    "#     \"Programming languages evolve with time\",\n",
    "#     \"Challenges in coding foster resilience\",\n",
    "#     \"Innovative solutions drive technological advancements\",\n",
    "#     \"Machine learning transforms raw data into knowledge\",\n",
    "#     \"Data analysis guides strategic decision-making\",\n",
    "#     \"Artificial intelligence enhances human capabilities\",\n",
    "#     \"I like creating software that makes a difference\",\n",
    "#     \"Exploring the depths of coding possibilities\",\n",
    "#     \"Python, a language of endless potential\",\n",
    "#     \"Learning from challenges accelerates personal growth\",\n",
    "#     \"Programming languages, a means of expression\",\n",
    "#     \"Machine learning, the science of prediction\",\n",
    "#     \"Data analysis, the key to actionable insights\",\n",
    "#     \"Artificial intelligence, a catalyst for change\",\n",
    "#     \"I enjoy the challenge of coding puzzles\",\n",
    "#     \"Python, a versatile and powerful language\",\n",
    "#     \"Learning coding principles for success\",\n",
    "#     \"Programming languages, the building blocks of software\",\n",
    "#     \"Machine learning algorithms, the heart of AI\",\n",
    "#     \"Data analysis, uncovering the story in data\",\n",
    "#     \"Artificial intelligence, pushing boundaries\",\n",
    "#     \"I like coding for fun and innovation\",\n",
    "#     \"Exploring the possibilities of machine learning\",\n",
    "#     \"Python, the language of automation\",\n",
    "#     \"Learning data structures for efficient coding\",\n",
    "#     \"Programming languages, tools for creation\",\n",
    "#     \"Machine learning models, predicting the future\",\n",
    "#     \"Data analysis techniques, revealing trends\",\n",
    "#     \"Artificial intelligence applications, endless possibilities\",\n",
    "#     \"I enjoy the process of debugging code\",\n",
    "#     \"Python scripting, simplifying tasks\",\n",
    "#     \"Learning algorithms for computational thinking\",\n",
    "#     \"Programming languages, a medium of communication\",\n",
    "#     \"Machine learning advancements, shaping industries\",\n",
    "#     \"Data analysis skills, a competitive edge\",\n",
    "#     \"Artificial intelligence systems, driving efficiency\",\n",
    "#     \"I like developing software with impact\",\n",
    "#     \"Exploring the nuances of coding languages\",\n",
    "#     \"Python, a language loved by developers\",\n",
    "#     \"Learning computer science fundamentals\",\n",
    "#     \"Programming languages, a canvas for creativity\",\n",
    "#     \"Machine learning applications, solving complex problems\",\n",
    "#     \"Data analysis insights, guiding decision-makers\",\n",
    "#     \"Artificial intelligence innovations, changing the game\",\n",
    "#     \"I enjoy the challenge of coding challenges\",\n",
    "#     \"Python, a language for web development\",\n",
    "#     \"Learning software engineering principles\",\n",
    "#     \"Programming languages, tools of the trade\",\n",
    "#     \"Machine learning algorithms, predicting outcomes\",\n",
    "#     \"Data analysis, unlocking the power of data\",\n",
    "#     \"Artificial intelligence, a driving force\",\n",
    "#     \"I like coding for innovation and progress\",\n",
    "#     \"Exploring the endless possibilities of programming\",\n",
    "#     \"Python, a language that empowers developers\",\n",
    "#     \"Learning coding best practices\",\n",
    "#     \"Programming languages, a foundation for technology\",\n",
    "#     \"Machine learning models, unlocking potential\",\n",
    "#     \"Data analysis, extracting meaningful insights\",\n",
    "#     \"Artificial intelligence, shaping the future landscape\",\n",
    "#     \"I enjoy the satisfaction of solving coding puzzles\",\n",
    "#     \"Python scripting, automating tasks seamlessly\",\n",
    "#     \"Learning algorithms, mastering the art of coding\",\n",
    "#     \"Programming languages, a gateway to creation\",\n",
    "#     \"Machine learning advancements, predicting trends\",\n",
    "#     \"Data analysis techniques, revealing valuable insights\",\n",
    "#     \"Artificial intelligence applications, transforming industries\",\n",
    "#     \"I like developing software that makes a positive impact\",\n",
    "#     \"Exploring the intricacies of coding languages\",\n",
    "#     \"Python, a language known for its simplicity\",\n",
    "#     \"Learning computer science principles for problem-solving\",\n",
    "#     \"Programming languages, a means of expressing ideas\",\n",
    "#     \"Machine learning applications, driving innovation\",\n",
    "#     \"Data analysis skills, enabling informed decision-making\",\n",
    "#     \"Artificial intelligence, a catalyst for technological change\"\n",
    "# ]\n",
    "\n",
    "\n",
    "# import csv\n",
    "# csv_file_path = \"generated_data.csv\"\n",
    "# with open(csv_file_path, mode='w', newline='') as csv_file:\n",
    "#     csv_writer = csv.writer(csv_file)\n",
    "#     csv_writer.writerow([\"Sentence\"])  # Write header\n",
    "\n",
    "#     for sentence in corpus:\n",
    "#         csv_writer.writerow([sentence])\n",
    "\n",
    "# print(f\"CSV file saved at: {csv_file_path}\")\n"
   ]
  },
  {
   "cell_type": "code",
   "execution_count": null,
   "metadata": {
    "id": "9bR7sHnDEf-S"
   },
   "outputs": [],
   "source": []
  }
 ],
 "metadata": {
  "colab": {
   "provenance": []
  },
  "kernelspec": {
   "display_name": "Python 3 (ipykernel)",
   "language": "python",
   "name": "python3"
  },
  "language_info": {
   "codemirror_mode": {
    "name": "ipython",
    "version": 3
   },
   "file_extension": ".py",
   "mimetype": "text/x-python",
   "name": "python",
   "nbconvert_exporter": "python",
   "pygments_lexer": "ipython3",
   "version": "3.11.3"
  }
 },
 "nbformat": 4,
 "nbformat_minor": 1
}

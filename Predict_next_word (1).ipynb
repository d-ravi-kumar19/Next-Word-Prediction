{
  "cells": [
    {
      "cell_type": "code",
      "execution_count": 2,
      "metadata": {
        "id": "6W_1Qe8_sxn5"
      },
      "outputs": [],
      "source": [
        "import numpy as np\n",
        "import pandas as pd\n",
        "import matplotlib.pyplot as plt\n",
        "\n",
        "import tensorflow as tf\n",
        "from tensorflow.keras.models import Sequential\n",
        "from tensorflow.keras.datasets import reuters\n",
        "from tensorflow.keras.layers import Embedding,LSTM,Bidirectional,Dense\n",
        "from tensorflow.keras.optimizers import Adam\n",
        "from tensorflow.keras.preprocessing.text import Tokenizer\n",
        "from tensorflow.keras.preprocessing.sequence import pad_sequences\n"
      ]
    },
    {
      "cell_type": "code",
      "execution_count": 4,
      "metadata": {
        "colab": {
          "base_uri": "https://localhost:8080/"
        },
        "id": "Xd8lfuFrtUoo",
        "outputId": "bb988a7a-5354-48c9-e432-ea0505df41ea"
      },
      "outputs": [
        {
          "output_type": "stream",
          "name": "stdout",
          "text": [
            "(6508, 10)\n"
          ]
        }
      ],
      "source": [
        "# data = reuters.load_data()\n",
        "# (X_train,y_train),(y_train,y_test) = data\n",
        "data = pd.read_csv('medium_data.csv')\n",
        "data['title']\n",
        "print(data.shape)"
      ]
    },
    {
      "cell_type": "code",
      "execution_count": 5,
      "metadata": {
        "id": "TyRfOQRGzRXZ"
      },
      "outputs": [],
      "source": [
        "# corpus = [\n",
        "#     \"I love programming\",\n",
        "#     \"Programming languages are fascinating\",\n",
        "#     \"Machine learning is a powerful tool\",\n",
        "#     \"I enjoy solving coding problems\",\n",
        "#     \"Learning new things is always exciting\",\n",
        "#     \"Python is a versatile language\",\n",
        "#     \"Data analysis is an essential skill\",\n",
        "#     \"I like building applications\",\n",
        "#     \"Coding challenges improve problem-solving skills\",\n",
        "#     \"Artificial intelligence is shaping the future\",\n",
        "# ]"
      ]
    },
    {
      "cell_type": "code",
      "execution_count": 6,
      "metadata": {
        "colab": {
          "base_uri": "https://localhost:8080/"
        },
        "id": "WwvxXJLAun61",
        "outputId": "f987e63a-007e-4433-9a40-f0838517d738"
      },
      "outputs": [
        {
          "output_type": "stream",
          "name": "stdout",
          "text": [
            "Total number of words:  8237\n"
          ]
        }
      ],
      "source": [
        "data ['title'] = data['title'].apply(lambda x: x.replace(u'\\xa0',u' ').replace('\\u200a',' '))\n",
        "\n",
        "# Tokenize the text\n",
        "tokenizer = Tokenizer()\n",
        "tokenizer.fit_on_texts(data['title'])\n",
        "total_words = len(tokenizer.word_index) + 1\n",
        "\n",
        "print(\"Total number of words: \", total_words)"
      ]
    },
    {
      "cell_type": "code",
      "execution_count": 7,
      "metadata": {
        "colab": {
          "base_uri": "https://localhost:8080/"
        },
        "id": "et63tXriyZBB",
        "outputId": "018f3287-24a3-4783-95b8-2b14818a6e53"
      },
      "outputs": [
        {
          "output_type": "stream",
          "name": "stdout",
          "text": [
            "total input sequences: 48461\n"
          ]
        }
      ],
      "source": [
        "input_sequences = []\n",
        "\n",
        "for line in data['title']:\n",
        "  # print(line)\n",
        "  token_list = tokenizer.texts_to_sequences([line])[0]\n",
        "  # print(token_list)\n",
        "  for i in range(1,len(token_list)):\n",
        "    n_gram_sequence = token_list[:i+1]\n",
        "    input_sequences.append(n_gram_sequence)\n",
        "\n",
        "# input_sequences\n",
        "print(\"total input sequences:\",len(input_sequences))"
      ]
    },
    {
      "cell_type": "code",
      "execution_count": 8,
      "metadata": {
        "colab": {
          "base_uri": "https://localhost:8080/"
        },
        "id": "JuoH1MHavRks",
        "outputId": "2a27b995-2182-4e1d-9aef-f2c5c582efbb"
      },
      "outputs": [
        {
          "output_type": "stream",
          "name": "stdout",
          "text": [
            "Max Sequence Length: 40\n"
          ]
        }
      ],
      "source": [
        "# input_sequences = np.array(input_sequences)\n",
        "max_sequence_length = max(len(seq) for seq in input_sequences)\n",
        "print(\"Max Sequence Length:\", max_sequence_length)\n",
        "input_sequences = np.array(pad_sequences(input_sequences, maxlen=max_sequence_length, padding='pre'))\n",
        "X,y = input_sequences[:,:-1],input_sequences[:,-1]\n",
        "y = tf.keras.utils.to_categorical(y, num_classes = total_words)\n",
        "\n",
        "# X, y = input_sequences[:, :-1], input_sequences[:, -1]\n",
        "# X = [seq[:-1] for seq in input_sequences]\n",
        "# y = [seq[-1] for seq in input_sequences]\n",
        "\n"
      ]
    },
    {
      "cell_type": "code",
      "execution_count": 9,
      "metadata": {
        "id": "GSma-wIX8XOr"
      },
      "outputs": [],
      "source": [
        "# import numpy as np\n",
        "# for i in range(len(X)):  # Print the first 5 samples or all if less than 5\n",
        "#     x_text = ' '.join(tokenizer.index_word[idx] for idx in X[i] if idx != 0)\n",
        "#     y_text = tokenizer.index_word[y[i]]\n",
        "#     print(f\"X: {x_text.ljust(30)} | y: {y_text}\")"
      ]
    },
    {
      "cell_type": "code",
      "execution_count": 9,
      "metadata": {
        "id": "AhxJWGEW14p6"
      },
      "outputs": [],
      "source": []
    },
    {
      "cell_type": "code",
      "execution_count": 10,
      "metadata": {
        "colab": {
          "base_uri": "https://localhost:8080/"
        },
        "id": "GNJTc6nd4DzE",
        "outputId": "d8be555b-9293-4bbd-fe5f-5cf61559fe64"
      },
      "outputs": [
        {
          "output_type": "stream",
          "name": "stdout",
          "text": [
            "Model: \"sequential\"\n",
            "_________________________________________________________________\n",
            " Layer (type)                Output Shape              Param #   \n",
            "=================================================================\n",
            " embedding (Embedding)       (None, 39, 100)           823700    \n",
            "                                                                 \n",
            " bidirectional (Bidirectiona  (None, 300)              301200    \n",
            " l)                                                              \n",
            "                                                                 \n",
            " dense (Dense)               (None, 8237)              2479337   \n",
            "                                                                 \n",
            "=================================================================\n",
            "Total params: 3,604,237\n",
            "Trainable params: 3,604,237\n",
            "Non-trainable params: 0\n",
            "_________________________________________________________________\n"
          ]
        }
      ],
      "source": [
        "model = Sequential()\n",
        "model.add(Embedding(total_words,100,input_length= max_sequence_length-1 ))\n",
        "model.add(Bidirectional(LSTM(150)))\n",
        "model.add(Dense(total_words,activation = 'softmax'))\n",
        "adam = Adam(learning_rate= 0.01)\n",
        "model.compile(optimizer =adam, loss ='categorical_crossentropy',metrics= ['accuracy'])\n",
        "model.summary()"
      ]
    },
    {
      "cell_type": "code",
      "source": [
        "model1 = Sequential()\n",
        "model1.add(Embedding(total_words,100,input_length= max_sequence_length-1 ))\n",
        "model1.add(Bidirectional(LSTM(150)))\n",
        "model1.add(Dense(total_words,activation = 'softmax'))\n",
        "adam = Adam(learning_rate= 0.01)\n",
        "model1.compile(optimizer =adam, loss ='categorical_crossentropy',metrics= ['accuracy'])\n",
        "model1.summary()"
      ],
      "metadata": {
        "colab": {
          "base_uri": "https://localhost:8080/"
        },
        "id": "SILPXZ3OMcCz",
        "outputId": "1c7aae72-7047-481d-e666-1b3531e5797e"
      },
      "execution_count": 17,
      "outputs": [
        {
          "output_type": "stream",
          "name": "stdout",
          "text": [
            "Model: \"sequential_1\"\n",
            "_________________________________________________________________\n",
            " Layer (type)                Output Shape              Param #   \n",
            "=================================================================\n",
            " embedding_1 (Embedding)     (None, 39, 100)           823700    \n",
            "                                                                 \n",
            " bidirectional_1 (Bidirectio  (None, 300)              301200    \n",
            " nal)                                                            \n",
            "                                                                 \n",
            " dense_1 (Dense)             (None, 8237)              2479337   \n",
            "                                                                 \n",
            "=================================================================\n",
            "Total params: 3,604,237\n",
            "Trainable params: 3,604,237\n",
            "Non-trainable params: 0\n",
            "_________________________________________________________________\n"
          ]
        }
      ]
    },
    {
      "cell_type": "code",
      "source": [
        "history1 = model1.fit(X,y,epochs =50,verbose=1)\n",
        "print(model)"
      ],
      "metadata": {
        "id": "S_OFdNszMrjr"
      },
      "execution_count": null,
      "outputs": []
    },
    {
      "cell_type": "code",
      "source": [
        "!nvidia.sim"
      ],
      "metadata": {
        "colab": {
          "base_uri": "https://localhost:8080/"
        },
        "id": "otxAt7ugM46x",
        "outputId": "6006b743-8da9-4960-f2c2-ebca5099092d"
      },
      "execution_count": 18,
      "outputs": [
        {
          "output_type": "stream",
          "name": "stdout",
          "text": [
            "/bin/bash: line 1: nvidia.sim: command not found\n"
          ]
        }
      ]
    },
    {
      "cell_type": "code",
      "source": [],
      "metadata": {
        "id": "XBwisKmdMraL"
      },
      "execution_count": null,
      "outputs": []
    },
    {
      "cell_type": "code",
      "execution_count": 11,
      "metadata": {
        "colab": {
          "base_uri": "https://localhost:8080/"
        },
        "id": "weXIfjBA40gE",
        "outputId": "4874713a-6a4b-4886-b375-972a64a0def4"
      },
      "outputs": [
        {
          "output_type": "stream",
          "name": "stdout",
          "text": [
            "Epoch 1/50\n",
            "1515/1515 [==============================] - 370s 240ms/step - loss: 6.7789 - accuracy: 0.1261\n",
            "Epoch 2/50\n",
            "1515/1515 [==============================] - 348s 230ms/step - loss: 5.7852 - accuracy: 0.1752\n",
            "Epoch 3/50\n",
            "1515/1515 [==============================] - 348s 229ms/step - loss: 4.9706 - accuracy: 0.2046\n",
            "Epoch 4/50\n",
            "1515/1515 [==============================] - 348s 230ms/step - loss: 4.2128 - accuracy: 0.2451\n",
            "Epoch 5/50\n",
            "1515/1515 [==============================] - 357s 236ms/step - loss: 3.6665 - accuracy: 0.2985\n",
            "Epoch 6/50\n",
            "1515/1515 [==============================] - 344s 227ms/step - loss: 3.3007 - accuracy: 0.3358\n",
            "Epoch 7/50\n",
            "1515/1515 [==============================] - 340s 225ms/step - loss: 3.0519 - accuracy: 0.3683\n",
            "Epoch 8/50\n",
            "1515/1515 [==============================] - 341s 225ms/step - loss: 2.8857 - accuracy: 0.3896\n",
            "Epoch 9/50\n",
            "1515/1515 [==============================] - 341s 225ms/step - loss: 2.7668 - accuracy: 0.4043\n",
            "Epoch 10/50\n",
            "1515/1515 [==============================] - 348s 230ms/step - loss: 2.6783 - accuracy: 0.4179\n",
            "Epoch 11/50\n",
            "1515/1515 [==============================] - 359s 237ms/step - loss: 2.5664 - accuracy: 0.4341\n",
            "Epoch 12/50\n",
            "1515/1515 [==============================] - 345s 228ms/step - loss: 2.5198 - accuracy: 0.4421\n",
            "Epoch 13/50\n",
            "1515/1515 [==============================] - 344s 227ms/step - loss: 2.4642 - accuracy: 0.4520\n",
            "Epoch 14/50\n",
            "1515/1515 [==============================] - 341s 225ms/step - loss: 2.4468 - accuracy: 0.4558\n",
            "Epoch 15/50\n",
            "1515/1515 [==============================] - 338s 223ms/step - loss: 2.4149 - accuracy: 0.4576\n",
            "Epoch 16/50\n",
            "1515/1515 [==============================] - 337s 223ms/step - loss: 2.3479 - accuracy: 0.4689\n",
            "Epoch 17/50\n",
            "1515/1515 [==============================] - 337s 223ms/step - loss: 2.3219 - accuracy: 0.4757\n",
            "Epoch 18/50\n",
            "1515/1515 [==============================] - 337s 223ms/step - loss: 2.3024 - accuracy: 0.4763\n",
            "Epoch 19/50\n",
            "1515/1515 [==============================] - 338s 223ms/step - loss: 2.3116 - accuracy: 0.4765\n",
            "Epoch 20/50\n",
            "1515/1515 [==============================] - 337s 223ms/step - loss: 2.2997 - accuracy: 0.4804\n",
            "Epoch 21/50\n",
            "1515/1515 [==============================] - 337s 223ms/step - loss: 2.2665 - accuracy: 0.4847\n",
            "Epoch 22/50\n",
            "1515/1515 [==============================] - 335s 221ms/step - loss: 2.2855 - accuracy: 0.4820\n",
            "Epoch 23/50\n",
            "1515/1515 [==============================] - 337s 222ms/step - loss: 2.2803 - accuracy: 0.4847\n",
            "Epoch 24/50\n",
            "1515/1515 [==============================] - 339s 224ms/step - loss: 2.2572 - accuracy: 0.4873\n",
            "Epoch 25/50\n",
            "1515/1515 [==============================] - 333s 220ms/step - loss: 2.2670 - accuracy: 0.4873\n",
            "Epoch 26/50\n",
            "1515/1515 [==============================] - 335s 221ms/step - loss: 2.2221 - accuracy: 0.4930\n",
            "Epoch 27/50\n",
            "1515/1515 [==============================] - 335s 221ms/step - loss: 2.2295 - accuracy: 0.4937\n",
            "Epoch 28/50\n",
            "1515/1515 [==============================] - 333s 220ms/step - loss: 2.3216 - accuracy: 0.4790\n",
            "Epoch 29/50\n",
            "1515/1515 [==============================] - 336s 222ms/step - loss: 2.2764 - accuracy: 0.4881\n",
            "Epoch 30/50\n",
            "1515/1515 [==============================] - 331s 219ms/step - loss: 2.2396 - accuracy: 0.4940\n",
            "Epoch 31/50\n",
            "1515/1515 [==============================] - 332s 219ms/step - loss: 2.2302 - accuracy: 0.4960\n",
            "Epoch 32/50\n",
            "1515/1515 [==============================] - 334s 220ms/step - loss: 2.2164 - accuracy: 0.4956\n",
            "Epoch 33/50\n",
            "1515/1515 [==============================] - 337s 222ms/step - loss: 2.2465 - accuracy: 0.4959\n",
            "Epoch 34/50\n",
            "1515/1515 [==============================] - 334s 221ms/step - loss: 2.2007 - accuracy: 0.5016\n",
            "Epoch 35/50\n",
            "1515/1515 [==============================] - 335s 221ms/step - loss: 2.1781 - accuracy: 0.5053\n",
            "Epoch 36/50\n",
            "1515/1515 [==============================] - 332s 219ms/step - loss: 2.1985 - accuracy: 0.5020\n",
            "Epoch 37/50\n",
            "1515/1515 [==============================] - 335s 221ms/step - loss: 2.1972 - accuracy: 0.5039\n",
            "Epoch 38/50\n",
            "1515/1515 [==============================] - 331s 218ms/step - loss: 2.1845 - accuracy: 0.5060\n",
            "Epoch 39/50\n",
            "1515/1515 [==============================] - 333s 220ms/step - loss: 2.1834 - accuracy: 0.5073\n",
            "Epoch 40/50\n",
            "1515/1515 [==============================] - 333s 220ms/step - loss: 2.2091 - accuracy: 0.5016\n",
            "Epoch 41/50\n",
            "1515/1515 [==============================] - 334s 220ms/step - loss: 2.2140 - accuracy: 0.5063\n",
            "Epoch 42/50\n",
            "1515/1515 [==============================] - 334s 220ms/step - loss: 2.2388 - accuracy: 0.5046\n",
            "Epoch 43/50\n",
            "1515/1515 [==============================] - 336s 222ms/step - loss: 2.2237 - accuracy: 0.5011\n",
            "Epoch 44/50\n",
            "1515/1515 [==============================] - 335s 221ms/step - loss: 2.2172 - accuracy: 0.5055\n",
            "Epoch 45/50\n",
            "1515/1515 [==============================] - 329s 217ms/step - loss: 2.1965 - accuracy: 0.5086\n",
            "Epoch 46/50\n",
            "1515/1515 [==============================] - 333s 220ms/step - loss: 2.1793 - accuracy: 0.5093\n",
            "Epoch 47/50\n",
            "1515/1515 [==============================] - 333s 220ms/step - loss: 2.1582 - accuracy: 0.5150\n",
            "Epoch 48/50\n",
            "1515/1515 [==============================] - 332s 219ms/step - loss: 2.1556 - accuracy: 0.5128\n",
            "Epoch 49/50\n",
            "1515/1515 [==============================] - 332s 219ms/step - loss: 2.1821 - accuracy: 0.5113\n",
            "Epoch 50/50\n",
            "1515/1515 [==============================] - 331s 219ms/step - loss: 2.1746 - accuracy: 0.5135\n",
            "<keras.engine.sequential.Sequential object at 0x7ba2e63023e0>\n"
          ]
        }
      ],
      "source": [
        "history = model.fit(X,y,epochs =50,verbose=1)\n",
        "print(model)"
      ]
    },
    {
      "cell_type": "code",
      "source": [
        "history"
      ],
      "metadata": {
        "colab": {
          "base_uri": "https://localhost:8080/"
        },
        "id": "tKL-hQJmB3Ir",
        "outputId": "f6d75f45-92ea-45d5-93da-7ff0ffa67495"
      },
      "execution_count": 12,
      "outputs": [
        {
          "output_type": "execute_result",
          "data": {
            "text/plain": [
              "<keras.callbacks.History at 0x7ba2e5ab6500>"
            ]
          },
          "metadata": {},
          "execution_count": 12
        }
      ]
    },
    {
      "cell_type": "code",
      "source": [
        "import h5py\n",
        "model_filename = 'next_wrod_pred_model.h5'\n",
        "model.save(model_filename)"
      ],
      "metadata": {
        "id": "PyCE-Cm_CcgK"
      },
      "execution_count": 13,
      "outputs": []
    },
    {
      "cell_type": "code",
      "source": [
        "def plot_graphs(history,metric):\n",
        "  plt.plot(history.history[metric])\n",
        "  plt.xlabel('Epochs')\n",
        "  plt.ylabel(metric)\n",
        "  plt.show()\n",
        "\n",
        "plot_graphs(history,'accuracy')"
      ],
      "metadata": {
        "colab": {
          "base_uri": "https://localhost:8080/",
          "height": 449
        },
        "id": "0_t5tyyXBuy2",
        "outputId": "4fb43d2a-8b46-48bc-aa10-de1ef5be576e"
      },
      "execution_count": 14,
      "outputs": [
        {
          "output_type": "display_data",
          "data": {
            "text/plain": [
              "<Figure size 640x480 with 1 Axes>"
            ],
            "image/png": "[encoded data removed]"
          },
          "metadata": {}
        }
      ]
    },
    {
      "cell_type": "code",
      "source": [
        "plot_graphs(history,'loss')"
      ],
      "metadata": {
        "colab": {
          "base_uri": "https://localhost:8080/",
          "height": 454
        },
        "id": "vQj9h5G2BufQ",
        "outputId": "76bf2174-13e7-4a36-fc50-272404032a74"
      },
      "execution_count": 15,
      "outputs": [
        {
          "output_type": "display_data",
          "data": {
            "text/plain": [
              "<Figure size 640x480 with 1 Axes>"
            ],
            "image/png": "[encoded data removed]"
          },
          "metadata": {}
        }
      ]
    },
    {
      "cell_type": "code",
      "execution_count": 16,
      "metadata": {
        "colab": {
          "base_uri": "https://localhost:8080/"
        },
        "id": "rjP1DD6h5YW_",
        "outputId": "0376b05c-acf6-468d-e726-bdb7f9794a82"
      },
      "outputs": [
        {
          "output_type": "stream",
          "name": "stdout",
          "text": [
            "Seed text: hypothesis\n",
            "Predicted next words: hypothesis testing glossary for\n"
          ]
        }
      ],
      "source": [
        "def predict_next_word(seed_text, model, tokenizer, max_sequence_length):\n",
        "    for _ in range(3):  # Predict the next 3 words\n",
        "        token_list = tokenizer.texts_to_sequences([seed_text])[0]\n",
        "        token_list = pad_sequences([token_list], maxlen=max_sequence_length-1, padding='pre')\n",
        "        predicted_probs = model.predict(token_list, verbose=0)[0]\n",
        "        predicted_id = np.argmax(predicted_probs)\n",
        "        predicted_word = tokenizer.index_word[predicted_id]\n",
        "        seed_text += \" \" + predicted_word\n",
        "    return seed_text\n",
        "\n",
        "seed_text = \"hypothesis\"\n",
        "predicted_text = predict_next_word(seed_text, model, tokenizer, max_sequence_length)\n",
        "print(\"Seed text:\", seed_text)\n",
        "print(\"Predicted next words:\", predicted_text)\n"
      ]
    },
    {
      "cell_type": "code",
      "execution_count": null,
      "metadata": {
        "colab": {
          "base_uri": "https://localhost:8080/"
        },
        "id": "2UsBCy1y_Se6",
        "outputId": "80b419e9-24c7-446f-c922-bb7332e2862b"
      },
      "outputs": [
        {
          "name": "stdout",
          "output_type": "stream",
          "text": [
            "CSV file saved at: generated_data.csv\n"
          ]
        }
      ],
      "source": [
        "# corpus = [\n",
        "#     \"I enjoy solving coding problems\",\n",
        "#     \"Machine learning opens new possibilities\",\n",
        "#     \"Programming languages shape our digital world\",\n",
        "#     \"Data analysis drives informed decisions\",\n",
        "#     \"I love exploring innovative solutions\",\n",
        "#     \"Artificial intelligence revolutionizes industries\",\n",
        "#     \"Python empowers developers with flexibility\",\n",
        "#     \"Learning new skills broadens horizons\",\n",
        "#     \"Coding challenges enhance problem-solving abilities\",\n",
        "#     \"Innovation in technology fuels progress\",\n",
        "#     \"I like building creative applications\",\n",
        "#     \"Programming is a journey of continuous learning\",\n",
        "#     \"Machine learning algorithms unlock insights\",\n",
        "#     \"Data analysis uncovers hidden patterns\",\n",
        "#     \"Artificial intelligence reshapes business landscapes\",\n",
        "#     \"I enjoy the art of coding\",\n",
        "#     \"Python simplifies complex tasks\",\n",
        "#     \"Learning and growing in the tech field\",\n",
        "#     \"Programming languages evolve with time\",\n",
        "#     \"Challenges in coding foster resilience\",\n",
        "#     \"Innovative solutions drive technological advancements\",\n",
        "#     \"Machine learning transforms raw data into knowledge\",\n",
        "#     \"Data analysis guides strategic decision-making\",\n",
        "#     \"Artificial intelligence enhances human capabilities\",\n",
        "#     \"I like creating software that makes a difference\",\n",
        "#     \"Exploring the depths of coding possibilities\",\n",
        "#     \"Python, a language of endless potential\",\n",
        "#     \"Learning from challenges accelerates personal growth\",\n",
        "#     \"Programming languages, a means of expression\",\n",
        "#     \"Machine learning, the science of prediction\",\n",
        "#     \"Data analysis, the key to actionable insights\",\n",
        "#     \"Artificial intelligence, a catalyst for change\",\n",
        "#     \"I enjoy the challenge of coding puzzles\",\n",
        "#     \"Python, a versatile and powerful language\",\n",
        "#     \"Learning coding principles for success\",\n",
        "#     \"Programming languages, the building blocks of software\",\n",
        "#     \"Machine learning algorithms, the heart of AI\",\n",
        "#     \"Data analysis, uncovering the story in data\",\n",
        "#     \"Artificial intelligence, pushing boundaries\",\n",
        "#     \"I like coding for fun and innovation\",\n",
        "#     \"Exploring the possibilities of machine learning\",\n",
        "#     \"Python, the language of automation\",\n",
        "#     \"Learning data structures for efficient coding\",\n",
        "#     \"Programming languages, tools for creation\",\n",
        "#     \"Machine learning models, predicting the future\",\n",
        "#     \"Data analysis techniques, revealing trends\",\n",
        "#     \"Artificial intelligence applications, endless possibilities\",\n",
        "#     \"I enjoy the process of debugging code\",\n",
        "#     \"Python scripting, simplifying tasks\",\n",
        "#     \"Learning algorithms for computational thinking\",\n",
        "#     \"Programming languages, a medium of communication\",\n",
        "#     \"Machine learning advancements, shaping industries\",\n",
        "#     \"Data analysis skills, a competitive edge\",\n",
        "#     \"Artificial intelligence systems, driving efficiency\",\n",
        "#     \"I like developing software with impact\",\n",
        "#     \"Exploring the nuances of coding languages\",\n",
        "#     \"Python, a language loved by developers\",\n",
        "#     \"Learning computer science fundamentals\",\n",
        "#     \"Programming languages, a canvas for creativity\",\n",
        "#     \"Machine learning applications, solving complex problems\",\n",
        "#     \"Data analysis insights, guiding decision-makers\",\n",
        "#     \"Artificial intelligence innovations, changing the game\",\n",
        "#     \"I enjoy the challenge of coding challenges\",\n",
        "#     \"Python, a language for web development\",\n",
        "#     \"Learning software engineering principles\",\n",
        "#     \"Programming languages, tools of the trade\",\n",
        "#     \"Machine learning algorithms, predicting outcomes\",\n",
        "#     \"Data analysis, unlocking the power of data\",\n",
        "#     \"Artificial intelligence, a driving force\",\n",
        "#     \"I like coding for innovation and progress\",\n",
        "#     \"Exploring the endless possibilities of programming\",\n",
        "#     \"Python, a language that empowers developers\",\n",
        "#     \"Learning coding best practices\",\n",
        "#     \"Programming languages, a foundation for technology\",\n",
        "#     \"Machine learning models, unlocking potential\",\n",
        "#     \"Data analysis, extracting meaningful insights\",\n",
        "#     \"Artificial intelligence, shaping the future landscape\",\n",
        "#     \"I enjoy the satisfaction of solving coding puzzles\",\n",
        "#     \"Python scripting, automating tasks seamlessly\",\n",
        "#     \"Learning algorithms, mastering the art of coding\",\n",
        "#     \"Programming languages, a gateway to creation\",\n",
        "#     \"Machine learning advancements, predicting trends\",\n",
        "#     \"Data analysis techniques, revealing valuable insights\",\n",
        "#     \"Artificial intelligence applications, transforming industries\",\n",
        "#     \"I like developing software that makes a positive impact\",\n",
        "#     \"Exploring the intricacies of coding languages\",\n",
        "#     \"Python, a language known for its simplicity\",\n",
        "#     \"Learning computer science principles for problem-solving\",\n",
        "#     \"Programming languages, a means of expressing ideas\",\n",
        "#     \"Machine learning applications, driving innovation\",\n",
        "#     \"Data analysis skills, enabling informed decision-making\",\n",
        "#     \"Artificial intelligence, a catalyst for technological change\"\n",
        "# ]\n",
        "\n",
        "\n",
        "# import csv\n",
        "# csv_file_path = \"generated_data.csv\"\n",
        "# with open(csv_file_path, mode='w', newline='') as csv_file:\n",
        "#     csv_writer = csv.writer(csv_file)\n",
        "#     csv_writer.writerow([\"Sentence\"])  # Write header\n",
        "\n",
        "#     for sentence in corpus:\n",
        "#         csv_writer.writerow([sentence])\n",
        "\n",
        "# print(f\"CSV file saved at: {csv_file_path}\")\n"
      ]
    },
    {
      "cell_type": "code",
      "execution_count": null,
      "metadata": {
        "id": "9bR7sHnDEf-S"
      },
      "outputs": [],
      "source": []
    },
    {
      "cell_type": "code",
      "source": [
        "from google.colab import drive\n",
        "drive.mount('/content/drive')"
      ],
      "metadata": {
        "colab": {
          "base_uri": "https://localhost:8080/"
        },
        "id": "Hr3pPYNuEc_H",
        "outputId": "0d9536f5-3900-4556-fc7d-82cebed8c0c8"
      },
      "execution_count": null,
      "outputs": [
        {
          "output_type": "stream",
          "name": "stdout",
          "text": [
            "Mounted at /content/drive\n"
          ]
        }
      ]
    },
    {
      "cell_type": "code",
      "source": [],
      "metadata": {
        "id": "SaIYpch6E5A8"
      },
      "execution_count": null,
      "outputs": []
    }
  ],
  "metadata": {
    "colab": {
      "provenance": []
    },
    "kernelspec": {
      "display_name": "Python 3",
      "name": "python3"
    },
    "language_info": {
      "name": "python"
    },
    "accelerator": "TPU"
  },
  "nbformat": 4,
  "nbformat_minor": 0
}